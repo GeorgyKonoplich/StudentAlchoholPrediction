{
 "cells": [
  {
   "cell_type": "code",
   "execution_count": 2,
   "metadata": {
    "collapsed": true
   },
   "outputs": [],
   "source": [
    "import pandas as pd\n",
    "import numpy as np\n",
    "from sklearn.ensemble import RandomForestClassifier\n",
    "from scipy import stats\n",
    "import matplotlib.pyplot as plt\n",
    "from sklearn import cross_validation\n",
    "from sklearn.cross_validation import cross_val_score\n",
    "from sklearn.grid_search import RandomizedSearchCV\n",
    "from scipy.stats import randint as sp_randint\n",
    "from sklearn.ensemble import GradientBoostingClassifier\n",
    "from scipy.stats import uniform\n",
    "%matplotlib inline\n",
    "plt.style.use('ggplot')"
   ]
  },
  {
   "cell_type": "code",
   "execution_count": 84,
   "metadata": {
    "collapsed": false
   },
   "outputs": [],
   "source": [
    "data_mat = pd.read_csv(\"../data/student-mat.csv\", sep=\";\")"
   ]
  },
  {
   "cell_type": "code",
   "execution_count": 85,
   "metadata": {
    "collapsed": false
   },
   "outputs": [
    {
     "data": {
      "text/html": [
       "<div>\n",
       "<table border=\"1\" class=\"dataframe\">\n",
       "  <thead>\n",
       "    <tr style=\"text-align: right;\">\n",
       "      <th></th>\n",
       "      <th>school</th>\n",
       "      <th>sex</th>\n",
       "      <th>age</th>\n",
       "      <th>address</th>\n",
       "      <th>famsize</th>\n",
       "      <th>Pstatus</th>\n",
       "      <th>Medu</th>\n",
       "      <th>Fedu</th>\n",
       "      <th>Mjob</th>\n",
       "      <th>Fjob</th>\n",
       "      <th>...</th>\n",
       "      <th>famrel</th>\n",
       "      <th>freetime</th>\n",
       "      <th>goout</th>\n",
       "      <th>Dalc</th>\n",
       "      <th>Walc</th>\n",
       "      <th>health</th>\n",
       "      <th>absences</th>\n",
       "      <th>G1</th>\n",
       "      <th>G2</th>\n",
       "      <th>G3</th>\n",
       "    </tr>\n",
       "  </thead>\n",
       "  <tbody>\n",
       "    <tr>\n",
       "      <th>0</th>\n",
       "      <td>GP</td>\n",
       "      <td>F</td>\n",
       "      <td>18</td>\n",
       "      <td>U</td>\n",
       "      <td>GT3</td>\n",
       "      <td>A</td>\n",
       "      <td>4</td>\n",
       "      <td>4</td>\n",
       "      <td>at_home</td>\n",
       "      <td>teacher</td>\n",
       "      <td>...</td>\n",
       "      <td>4</td>\n",
       "      <td>3</td>\n",
       "      <td>4</td>\n",
       "      <td>1</td>\n",
       "      <td>1</td>\n",
       "      <td>3</td>\n",
       "      <td>6</td>\n",
       "      <td>5</td>\n",
       "      <td>6</td>\n",
       "      <td>6</td>\n",
       "    </tr>\n",
       "    <tr>\n",
       "      <th>1</th>\n",
       "      <td>GP</td>\n",
       "      <td>F</td>\n",
       "      <td>17</td>\n",
       "      <td>U</td>\n",
       "      <td>GT3</td>\n",
       "      <td>T</td>\n",
       "      <td>1</td>\n",
       "      <td>1</td>\n",
       "      <td>at_home</td>\n",
       "      <td>other</td>\n",
       "      <td>...</td>\n",
       "      <td>5</td>\n",
       "      <td>3</td>\n",
       "      <td>3</td>\n",
       "      <td>1</td>\n",
       "      <td>1</td>\n",
       "      <td>3</td>\n",
       "      <td>4</td>\n",
       "      <td>5</td>\n",
       "      <td>5</td>\n",
       "      <td>6</td>\n",
       "    </tr>\n",
       "    <tr>\n",
       "      <th>2</th>\n",
       "      <td>GP</td>\n",
       "      <td>F</td>\n",
       "      <td>15</td>\n",
       "      <td>U</td>\n",
       "      <td>LE3</td>\n",
       "      <td>T</td>\n",
       "      <td>1</td>\n",
       "      <td>1</td>\n",
       "      <td>at_home</td>\n",
       "      <td>other</td>\n",
       "      <td>...</td>\n",
       "      <td>4</td>\n",
       "      <td>3</td>\n",
       "      <td>2</td>\n",
       "      <td>2</td>\n",
       "      <td>3</td>\n",
       "      <td>3</td>\n",
       "      <td>10</td>\n",
       "      <td>7</td>\n",
       "      <td>8</td>\n",
       "      <td>10</td>\n",
       "    </tr>\n",
       "    <tr>\n",
       "      <th>3</th>\n",
       "      <td>GP</td>\n",
       "      <td>F</td>\n",
       "      <td>15</td>\n",
       "      <td>U</td>\n",
       "      <td>GT3</td>\n",
       "      <td>T</td>\n",
       "      <td>4</td>\n",
       "      <td>2</td>\n",
       "      <td>health</td>\n",
       "      <td>services</td>\n",
       "      <td>...</td>\n",
       "      <td>3</td>\n",
       "      <td>2</td>\n",
       "      <td>2</td>\n",
       "      <td>1</td>\n",
       "      <td>1</td>\n",
       "      <td>5</td>\n",
       "      <td>2</td>\n",
       "      <td>15</td>\n",
       "      <td>14</td>\n",
       "      <td>15</td>\n",
       "    </tr>\n",
       "    <tr>\n",
       "      <th>4</th>\n",
       "      <td>GP</td>\n",
       "      <td>F</td>\n",
       "      <td>16</td>\n",
       "      <td>U</td>\n",
       "      <td>GT3</td>\n",
       "      <td>T</td>\n",
       "      <td>3</td>\n",
       "      <td>3</td>\n",
       "      <td>other</td>\n",
       "      <td>other</td>\n",
       "      <td>...</td>\n",
       "      <td>4</td>\n",
       "      <td>3</td>\n",
       "      <td>2</td>\n",
       "      <td>1</td>\n",
       "      <td>2</td>\n",
       "      <td>5</td>\n",
       "      <td>4</td>\n",
       "      <td>6</td>\n",
       "      <td>10</td>\n",
       "      <td>10</td>\n",
       "    </tr>\n",
       "  </tbody>\n",
       "</table>\n",
       "<p>5 rows × 33 columns</p>\n",
       "</div>"
      ],
      "text/plain": [
       "  school sex  age address famsize Pstatus  Medu  Fedu     Mjob      Fjob ...  \\\n",
       "0     GP   F   18       U     GT3       A     4     4  at_home   teacher ...   \n",
       "1     GP   F   17       U     GT3       T     1     1  at_home     other ...   \n",
       "2     GP   F   15       U     LE3       T     1     1  at_home     other ...   \n",
       "3     GP   F   15       U     GT3       T     4     2   health  services ...   \n",
       "4     GP   F   16       U     GT3       T     3     3    other     other ...   \n",
       "\n",
       "  famrel freetime  goout  Dalc  Walc health absences  G1  G2  G3  \n",
       "0      4        3      4     1     1      3        6   5   6   6  \n",
       "1      5        3      3     1     1      3        4   5   5   6  \n",
       "2      4        3      2     2     3      3       10   7   8  10  \n",
       "3      3        2      2     1     1      5        2  15  14  15  \n",
       "4      4        3      2     1     2      5        4   6  10  10  \n",
       "\n",
       "[5 rows x 33 columns]"
      ]
     },
     "execution_count": 85,
     "metadata": {},
     "output_type": "execute_result"
    }
   ],
   "source": [
    "data_mat.head()"
   ]
  },
  {
   "cell_type": "code",
   "execution_count": 86,
   "metadata": {
    "collapsed": false
   },
   "outputs": [],
   "source": [
    "data_por = pd.read_csv(\"../data/student-por.csv\", sep=\";\")"
   ]
  },
  {
   "cell_type": "code",
   "execution_count": 87,
   "metadata": {
    "collapsed": false
   },
   "outputs": [
    {
     "data": {
      "text/html": [
       "<div>\n",
       "<table border=\"1\" class=\"dataframe\">\n",
       "  <thead>\n",
       "    <tr style=\"text-align: right;\">\n",
       "      <th></th>\n",
       "      <th>school</th>\n",
       "      <th>sex</th>\n",
       "      <th>age</th>\n",
       "      <th>address</th>\n",
       "      <th>famsize</th>\n",
       "      <th>Pstatus</th>\n",
       "      <th>Medu</th>\n",
       "      <th>Fedu</th>\n",
       "      <th>Mjob</th>\n",
       "      <th>Fjob</th>\n",
       "      <th>...</th>\n",
       "      <th>famrel</th>\n",
       "      <th>freetime</th>\n",
       "      <th>goout</th>\n",
       "      <th>Dalc</th>\n",
       "      <th>Walc</th>\n",
       "      <th>health</th>\n",
       "      <th>absences</th>\n",
       "      <th>G1</th>\n",
       "      <th>G2</th>\n",
       "      <th>G3</th>\n",
       "    </tr>\n",
       "  </thead>\n",
       "  <tbody>\n",
       "    <tr>\n",
       "      <th>0</th>\n",
       "      <td>GP</td>\n",
       "      <td>F</td>\n",
       "      <td>18</td>\n",
       "      <td>U</td>\n",
       "      <td>GT3</td>\n",
       "      <td>A</td>\n",
       "      <td>4</td>\n",
       "      <td>4</td>\n",
       "      <td>at_home</td>\n",
       "      <td>teacher</td>\n",
       "      <td>...</td>\n",
       "      <td>4</td>\n",
       "      <td>3</td>\n",
       "      <td>4</td>\n",
       "      <td>1</td>\n",
       "      <td>1</td>\n",
       "      <td>3</td>\n",
       "      <td>4</td>\n",
       "      <td>0</td>\n",
       "      <td>11</td>\n",
       "      <td>11</td>\n",
       "    </tr>\n",
       "    <tr>\n",
       "      <th>1</th>\n",
       "      <td>GP</td>\n",
       "      <td>F</td>\n",
       "      <td>17</td>\n",
       "      <td>U</td>\n",
       "      <td>GT3</td>\n",
       "      <td>T</td>\n",
       "      <td>1</td>\n",
       "      <td>1</td>\n",
       "      <td>at_home</td>\n",
       "      <td>other</td>\n",
       "      <td>...</td>\n",
       "      <td>5</td>\n",
       "      <td>3</td>\n",
       "      <td>3</td>\n",
       "      <td>1</td>\n",
       "      <td>1</td>\n",
       "      <td>3</td>\n",
       "      <td>2</td>\n",
       "      <td>9</td>\n",
       "      <td>11</td>\n",
       "      <td>11</td>\n",
       "    </tr>\n",
       "    <tr>\n",
       "      <th>2</th>\n",
       "      <td>GP</td>\n",
       "      <td>F</td>\n",
       "      <td>15</td>\n",
       "      <td>U</td>\n",
       "      <td>LE3</td>\n",
       "      <td>T</td>\n",
       "      <td>1</td>\n",
       "      <td>1</td>\n",
       "      <td>at_home</td>\n",
       "      <td>other</td>\n",
       "      <td>...</td>\n",
       "      <td>4</td>\n",
       "      <td>3</td>\n",
       "      <td>2</td>\n",
       "      <td>2</td>\n",
       "      <td>3</td>\n",
       "      <td>3</td>\n",
       "      <td>6</td>\n",
       "      <td>12</td>\n",
       "      <td>13</td>\n",
       "      <td>12</td>\n",
       "    </tr>\n",
       "    <tr>\n",
       "      <th>3</th>\n",
       "      <td>GP</td>\n",
       "      <td>F</td>\n",
       "      <td>15</td>\n",
       "      <td>U</td>\n",
       "      <td>GT3</td>\n",
       "      <td>T</td>\n",
       "      <td>4</td>\n",
       "      <td>2</td>\n",
       "      <td>health</td>\n",
       "      <td>services</td>\n",
       "      <td>...</td>\n",
       "      <td>3</td>\n",
       "      <td>2</td>\n",
       "      <td>2</td>\n",
       "      <td>1</td>\n",
       "      <td>1</td>\n",
       "      <td>5</td>\n",
       "      <td>0</td>\n",
       "      <td>14</td>\n",
       "      <td>14</td>\n",
       "      <td>14</td>\n",
       "    </tr>\n",
       "    <tr>\n",
       "      <th>4</th>\n",
       "      <td>GP</td>\n",
       "      <td>F</td>\n",
       "      <td>16</td>\n",
       "      <td>U</td>\n",
       "      <td>GT3</td>\n",
       "      <td>T</td>\n",
       "      <td>3</td>\n",
       "      <td>3</td>\n",
       "      <td>other</td>\n",
       "      <td>other</td>\n",
       "      <td>...</td>\n",
       "      <td>4</td>\n",
       "      <td>3</td>\n",
       "      <td>2</td>\n",
       "      <td>1</td>\n",
       "      <td>2</td>\n",
       "      <td>5</td>\n",
       "      <td>0</td>\n",
       "      <td>11</td>\n",
       "      <td>13</td>\n",
       "      <td>13</td>\n",
       "    </tr>\n",
       "  </tbody>\n",
       "</table>\n",
       "<p>5 rows × 33 columns</p>\n",
       "</div>"
      ],
      "text/plain": [
       "  school sex  age address famsize Pstatus  Medu  Fedu     Mjob      Fjob ...  \\\n",
       "0     GP   F   18       U     GT3       A     4     4  at_home   teacher ...   \n",
       "1     GP   F   17       U     GT3       T     1     1  at_home     other ...   \n",
       "2     GP   F   15       U     LE3       T     1     1  at_home     other ...   \n",
       "3     GP   F   15       U     GT3       T     4     2   health  services ...   \n",
       "4     GP   F   16       U     GT3       T     3     3    other     other ...   \n",
       "\n",
       "  famrel freetime  goout  Dalc  Walc health absences  G1  G2  G3  \n",
       "0      4        3      4     1     1      3        4   0  11  11  \n",
       "1      5        3      3     1     1      3        2   9  11  11  \n",
       "2      4        3      2     2     3      3        6  12  13  12  \n",
       "3      3        2      2     1     1      5        0  14  14  14  \n",
       "4      4        3      2     1     2      5        0  11  13  13  \n",
       "\n",
       "[5 rows x 33 columns]"
      ]
     },
     "execution_count": 87,
     "metadata": {},
     "output_type": "execute_result"
    }
   ],
   "source": [
    "data_por.head()"
   ]
  },
  {
   "cell_type": "code",
   "execution_count": 88,
   "metadata": {
    "collapsed": false
   },
   "outputs": [
    {
     "data": {
      "text/plain": [
       "Ks_2sampResult(statistic=0.014241969144350608, pvalue=0.99999999971045828)"
      ]
     },
     "execution_count": 88,
     "metadata": {},
     "output_type": "execute_result"
    }
   ],
   "source": [
    "stats.ks_2samp(data_mat['Walc'], data_por['Walc'])"
   ]
  },
  {
   "cell_type": "markdown",
   "metadata": {},
   "source": [
    "Тест однородности Колмогорова-Смирнова, чтобы проверить гипотезу о том, что потребление алкоголя в выходные дни\n",
    "студентами из двух выборок принадлежит одному закону распределения"
   ]
  },
  {
   "cell_type": "code",
   "execution_count": 89,
   "metadata": {
    "collapsed": false
   },
   "outputs": [
    {
     "data": {
      "text/plain": [
       "Ks_2sampResult(statistic=0.0072516627333190087, pvalue=1.0000000000000002)"
      ]
     },
     "execution_count": 89,
     "metadata": {},
     "output_type": "execute_result"
    }
   ],
   "source": [
    "stats.ks_2samp(data_mat['Dalc'], data_por['Dalc'])"
   ]
  },
  {
   "cell_type": "markdown",
   "metadata": {},
   "source": [
    "Такой же тест, только употребление в рабочие дни. Как можно увидеть K-S статистика очень мала, а p-value высоко, по этой причине можно сделать вывод, что выборки принадлежат одинаковому распределению и мы можем их сконкатенировать и не бояться, что точность предсказания упадет по сравнению с предсказанием употребления алкоголя по отдельности."
   ]
  },
  {
   "cell_type": "code",
   "execution_count": null,
   "metadata": {
    "collapsed": true
   },
   "outputs": [],
   "source": []
  },
  {
   "cell_type": "markdown",
   "metadata": {},
   "source": [
    "Будние дни и рабочие дни объединим в один столбец. Этот столбец будет метками."
   ]
  },
  {
   "cell_type": "code",
   "execution_count": 90,
   "metadata": {
    "collapsed": true
   },
   "outputs": [],
   "source": [
    "def process_alc(data):\n",
    "    result = data\n",
    "    result['alc'] = data.apply(lambda row: ((row['Dalc'] * 5.0) + (row['Walc'] * 2.0)) / 7, axis = 1)\n",
    "    result.drop(['Dalc', 'Walc'], inplace = True, axis = 1)\n",
    "    return result\n"
   ]
  },
  {
   "cell_type": "markdown",
   "metadata": {},
   "source": [
    "Так как в двух выборках есть одинковые студенты и в описании датасета сказано по каким аттрибутам их искать, то конкатенацию делаем по этим признакам"
   ]
  },
  {
   "cell_type": "code",
   "execution_count": 91,
   "metadata": {
    "collapsed": false
   },
   "outputs": [
    {
     "data": {
      "text/plain": [
       "(662, 26)"
      ]
     },
     "execution_count": 91,
     "metadata": {},
     "output_type": "execute_result"
    }
   ],
   "source": [
    "students = pd.concat([data_mat, data_por]).groupby([\"school\",\n",
    "                                                          \"sex\",\n",
    "                                                          \"age\",\n",
    "                                                          \"address\",\n",
    "                                                          \"famsize\",\n",
    "                                                          \"Pstatus\",\n",
    "                                                          \"Medu\",\n",
    "                                                          \"Fedu\",\n",
    "                                                          \"Mjob\",\n",
    "                                                          \"Fjob\",\n",
    "                                                          \"reason\",\n",
    "                                                          \"nursery\",\n",
    "                                                          \"internet\"]).mean().reset_index()\n",
    "\n",
    "students.shape"
   ]
  },
  {
   "cell_type": "markdown",
   "metadata": {},
   "source": [
    "Объединяем столбцы"
   ]
  },
  {
   "cell_type": "code",
   "execution_count": 92,
   "metadata": {
    "collapsed": false
   },
   "outputs": [],
   "source": [
    "students = process_alc(students)"
   ]
  },
  {
   "cell_type": "markdown",
   "metadata": {},
   "source": [
    "Делаем нелинейное преобразование признаков, так как вклад некоторых признаков достаточно нелинейен и для улучшения точности распознавания необходимо произвести преобразование"
   ]
  },
  {
   "cell_type": "code",
   "execution_count": 93,
   "metadata": {
    "collapsed": false
   },
   "outputs": [],
   "source": [
    "students_transformed = students\n",
    "students_transformed['male'] = students['sex'] == \"M\"\n",
    "students_transformed['rural'] = students['address'] == \"R\"\n",
    "students_transformed['big_family'] = students['famsize'] == 'GT3'\n",
    "students_transformed['parents_together'] = students['Pstatus'] == \"T\"\n",
    "students_transformed['studies_less'] = students['studytime'] < 3\n",
    "students_transformed['more_failures'] = students['failures'] >= 2\n",
    "students_transformed['bad_relationships'] = students['famrel'] <= 2\n",
    "students_transformed['more_free_time'] = students['freetime'] > 3\n",
    "students_transformed['goes_out_more'] = students['goout'] > 4\n",
    "students_transformed['bad_health'] = students['health'] <= 2\n",
    "students_transformed['high_absences'] = students['absences'] > (students['absences'].std() * 2)\n",
    "students_transformed['drinker'] = students['alc'] >= 3\n",
    "students_transformed['mothers_low_edu'] = students['Medu'] <= 3\n",
    "students_transformed['fathers_low_edu'] = students['Fedu'] <= 3\n",
    "students_transformed['more_than_18'] = students['age'] > 18\n",
    "students_transformed['long_road'] = students['traveltime'] >= 3\n",
    "\n",
    "sum_grade = students['G1'] + students['G2'] + students['G3']\n",
    "mean_grade = (sum_grade) / 3 \n",
    "students_transformed['low_grade'] = mean_grade <= (mean_grade.mean() + mean_grade.std())\n",
    "\n",
    "students_transformed.drop(['sex', \n",
    "                           'address', \n",
    "                           'famsize', \n",
    "                           'Pstatus', \n",
    "                           'studytime', \n",
    "                           'failures', \n",
    "                           'famrel', \n",
    "                           'freetime', \n",
    "                           'goout', \n",
    "                           'health',\n",
    "                           'absences',\n",
    "                           'alc',\n",
    "                           'G1',\n",
    "                            'G2',\n",
    "                            'G3',\n",
    "                           'Medu',\n",
    "                           'Fedu',\n",
    "                           'age',\n",
    "                           'traveltime'], axis = 1, inplace = True)"
   ]
  },
  {
   "cell_type": "code",
   "execution_count": 94,
   "metadata": {
    "collapsed": true
   },
   "outputs": [],
   "source": [
    "data = students_transformed.drop('drinker', axis = 1)\n",
    "data = pd.get_dummies(data)\n",
    "target = students_transformed['drinker']\n",
    "x_train, x_val, y_train, y_val = cross_validation.train_test_split(data, target, test_size=0.2, random_state=123, stratify = target)"
   ]
  },
  {
   "cell_type": "markdown",
   "metadata": {},
   "source": [
    "RandomForset классификатор со случайным поиском параметров, используется 5-fold кросс-валидация."
   ]
  },
  {
   "cell_type": "code",
   "execution_count": 95,
   "metadata": {
    "collapsed": false
   },
   "outputs": [
    {
     "name": "stdout",
     "output_type": "stream",
     "text": [
      "Best randomized search score - 0.877126654064\n",
      "Validation score - 0.87969924812\n"
     ]
    }
   ],
   "source": [
    "rf_clf = RandomForestClassifier(class_weight = \"balanced\")\n",
    "rf_param_dist ={\"n_estimators\" : np.arange(10, 100, 10),\n",
    "                  \"max_depth\": sp_randint(1, 31),\n",
    "                  \"max_features\": sp_randint(1, 10),\n",
    "                  \"min_samples_split\": sp_randint(1, 11),\n",
    "                  \"min_samples_leaf\": sp_randint(1, 11),\n",
    "                  \"max_features\" : [\"auto\", \"sqrt\", \"log2\"],\n",
    "                  \"criterion\": [\"gini\", \"entropy\"]}\n",
    "\n",
    "n_iter_search = 250\n",
    "rf_random_search = RandomizedSearchCV(rf_clf, param_distributions = rf_param_dist,\n",
    "                                   n_iter = n_iter_search, random_state = 123, cv=5)\n",
    "rf_random_search.fit(x_train, y_train)\n",
    "rf_clf = rf_random_search.best_estimator_\n",
    "rf_val_score = rf_clf.score(x_val, y_val)\n",
    "print(\"Best randomized search score - %s\" % rf_random_search.best_score_)\n",
    "print(\"Validation score - %s\" % rf_val_score)"
   ]
  },
  {
   "cell_type": "code",
   "execution_count": 24,
   "metadata": {
    "collapsed": false
   },
   "outputs": [
    {
     "data": {
      "image/png": "[encoded data removed]",
      "text/plain": [
       "<matplotlib.figure.Figure at 0xc260eb8>"
      ]
     },
     "metadata": {},
     "output_type": "display_data"
    }
   ],
   "source": [
    "ax = plt.subplot(111)\n",
    "width = 0.9\n",
    "names = x_train.columns\n",
    "bins = list(map(lambda x: x - width / 2, range(1, len(rf_clf.feature_importances_) + 1)))\n",
    "ax.bar(bins, rf_clf.feature_importances_, width = width)\n",
    "ax.set_xticks(list(map(lambda x: x, range(1, len(rf_clf.feature_importances_) + 1))))\n",
    "ax.set_xticklabels(names,rotation = 90)\n",
    "\n",
    "plt.show()"
   ]
  },
  {
   "cell_type": "markdown",
   "metadata": {},
   "source": [
    "GradientBossting классификатор со случайным поиском параметров, используется 5-fold кросс-валидация."
   ]
  },
  {
   "cell_type": "code",
   "execution_count": 25,
   "metadata": {
    "collapsed": false
   },
   "outputs": [
    {
     "name": "stdout",
     "output_type": "stream",
     "text": [
      "Best randomized search score - 0.882797731569\n",
      "Validation score - 0.87969924812\n"
     ]
    }
   ],
   "source": [
    "gb_param_dist = {\"n_estimators\" :  np.arange(10, 200, 10),\n",
    "                  \"max_depth\": sp_randint(2, 31),\n",
    "                  \"learning_rate\" : uniform(loc = 0.01, scale=0.2),\n",
    "                  }\n",
    "gb_clf = GradientBoostingClassifier()\n",
    "\n",
    "n_iter_search = 250\n",
    "gb_random_search = RandomizedSearchCV(gb_clf, param_distributions = gb_param_dist,\n",
    "                                   n_iter = n_iter_search, random_state = 123, cv=5)\n",
    "gb_random_search.fit(x_train, y_train)\n",
    "gb_clf = gb_random_search.best_estimator_\n",
    "gb_val_score = gb_clf.score(x_val, y_val)\n",
    "print(\"Best randomized search score - %s\" % gb_random_search.best_score_)\n",
    "print(\"Validation score - %s\" % gb_val_score)"
   ]
  },
  {
   "cell_type": "markdown",
   "metadata": {},
   "source": [
    "Выберем 10 лучших признаков"
   ]
  },
  {
   "cell_type": "code",
   "execution_count": 29,
   "metadata": {
    "collapsed": false
   },
   "outputs": [],
   "source": [
    "t = []\n",
    "for i in range(0, len(x_train.columns)):\n",
    "    t.append((x_train.columns[i], gb_clf.feature_importances_[i]))\n",
    "sorted_by_second = sorted(t, key=lambda tup: tup[1], reverse=True)\n",
    "best_features = [x[0] for x in sorted_by_second][:10]"
   ]
  },
  {
   "cell_type": "code",
   "execution_count": 30,
   "metadata": {
    "collapsed": false
   },
   "outputs": [
    {
     "data": {
      "text/plain": [
       "['rural',\n",
       " 'Mjob_other',\n",
       " 'high_absences',\n",
       " 'goes_out_more',\n",
       " 'Mjob_services',\n",
       " 'long_road',\n",
       " 'Fjob_services',\n",
       " 'male',\n",
       " 'school_MS',\n",
       " 'school_GP']"
      ]
     },
     "execution_count": 30,
     "metadata": {},
     "output_type": "execute_result"
    }
   ],
   "source": [
    "best_features"
   ]
  },
  {
   "cell_type": "code",
   "execution_count": 31,
   "metadata": {
    "collapsed": false
   },
   "outputs": [],
   "source": [
    "data = data[best_features]\n",
    "x_train, x_val, y_train, y_val = cross_validation.train_test_split(data, target, test_size=0.2, \n",
    "                                                                   random_state=123, stratify = target)"
   ]
  },
  {
   "cell_type": "markdown",
   "metadata": {},
   "source": [
    "GradientBossting классификатор с отобранными признаками и со случайным поиском параметров, используется 5-fold кросс-валидация. Как можно заметить точность на лучшей модели улучшилась но на тестовой выборке ничего не изменилось."
   ]
  },
  {
   "cell_type": "code",
   "execution_count": 32,
   "metadata": {
    "collapsed": false
   },
   "outputs": [
    {
     "name": "stdout",
     "output_type": "stream",
     "text": [
      "Best randomized search score - 0.888468809074\n",
      "Validation score - 0.87969924812\n"
     ]
    }
   ],
   "source": [
    "gb_param_dist = {\"n_estimators\" :  np.arange(10, 200, 10),\n",
    "                  \"max_depth\": sp_randint(2, 31),\n",
    "                  \"learning_rate\" : uniform(loc = 0.01, scale=0.2),\n",
    "                  }\n",
    "gb_clf = GradientBoostingClassifier()\n",
    "\n",
    "n_iter_search = 250\n",
    "gb_random_search = RandomizedSearchCV(gb_clf, param_distributions = gb_param_dist,\n",
    "                                   n_iter = n_iter_search, random_state = 123, cv=5)\n",
    "gb_random_search.fit(x_train, y_train)\n",
    "gb_clf = gb_random_search.best_estimator_\n",
    "gb_val_score = gb_clf.score(x_val, y_val)\n",
    "print(\"Best randomized search score - %s\" % gb_random_search.best_score_)\n",
    "print(\"Validation score - %s\" % gb_val_score)"
   ]
  },
  {
   "cell_type": "markdown",
   "metadata": {},
   "source": [
    "Посмотрим гистрограммы по признаками и попробуем выявить типовые группы студентов, характеризующих наиболее различное поведение в потреблении алкоголя"
   ]
  },
  {
   "cell_type": "markdown",
   "metadata": {},
   "source": [
    "Пьющих мальчиков около 50 из 200, то есть 25% можно считать пьющими. Девочки почти не пьют."
   ]
  },
  {
   "cell_type": "code",
   "execution_count": 44,
   "metadata": {
    "collapsed": true
   },
   "outputs": [],
   "source": [
    "boys = students_transformed[students_transformed['male'] == True]\n",
    "girls = students_transformed[students_transformed['male'] == False]"
   ]
  },
  {
   "cell_type": "code",
   "execution_count": 46,
   "metadata": {
    "collapsed": false
   },
   "outputs": [
    {
     "data": {
      "text/plain": [
       "array([[<matplotlib.axes._subplots.AxesSubplot object at 0x0000000015C36278>]], dtype=object)"
      ]
     },
     "execution_count": 46,
     "metadata": {},
     "output_type": "execute_result"
    },
    {
     "data": {
      "image/png": "[encoded data removed]",
      "text/plain": [
       "<matplotlib.figure.Figure at 0x15b5d128>"
      ]
     },
     "metadata": {},
     "output_type": "display_data"
    }
   ],
   "source": [
    "boys.hist(column='drinker', figsize=(3, 3))"
   ]
  },
  {
   "cell_type": "code",
   "execution_count": 48,
   "metadata": {
    "collapsed": false
   },
   "outputs": [
    {
     "data": {
      "text/plain": [
       "array([[<matplotlib.axes._subplots.AxesSubplot object at 0x0000000015912A20>]], dtype=object)"
      ]
     },
     "execution_count": 48,
     "metadata": {},
     "output_type": "execute_result"
    },
    {
     "data": {
      "image/png": "[encoded data removed]",
      "text/plain": [
       "<matplotlib.figure.Figure at 0x15e6c550>"
      ]
     },
     "metadata": {},
     "output_type": "display_data"
    }
   ],
   "source": [
    "girls.hist(column='drinker', figsize=(3, 3))"
   ]
  },
  {
   "cell_type": "markdown",
   "metadata": {},
   "source": [
    "Cреди мало пропускающих занятия 10% любят выпить. Среди много пропускающих 28%. "
   ]
  },
  {
   "cell_type": "code",
   "execution_count": 79,
   "metadata": {
    "collapsed": false
   },
   "outputs": [
    {
     "name": "stdout",
     "output_type": "stream",
     "text": [
      "0.103448275862\n"
     ]
    }
   ],
   "source": [
    "data1 = students_transformed[(students_transformed['high_absences'] == False) & (students_transformed['drinker'] == True)]\n",
    "data2 = students_transformed[(students_transformed['high_absences'] == False)]\n",
    "print(1.0*len(data1)/len(data2))"
   ]
  },
  {
   "cell_type": "code",
   "execution_count": 76,
   "metadata": {
    "collapsed": false
   },
   "outputs": [
    {
     "name": "stdout",
     "output_type": "stream",
     "text": [
      "0.283018867925\n"
     ]
    }
   ],
   "source": [
    "data1 = students_transformed[(students_transformed['high_absences'] == True) & (students_transformed['drinker'] == True)]\n",
    "data2 = students_transformed[(students_transformed['high_absences'] == True)]\n",
    "print(1.0*len(data1)/len(data2))"
   ]
  },
  {
   "cell_type": "markdown",
   "metadata": {},
   "source": [
    "Среди любящих погулять пьют 25%, а среди нелюбящих 9%."
   ]
  },
  {
   "cell_type": "code",
   "execution_count": 80,
   "metadata": {
    "collapsed": false
   },
   "outputs": [
    {
     "name": "stdout",
     "output_type": "stream",
     "text": [
      "0.0920577617329\n"
     ]
    }
   ],
   "source": [
    "data1 = students_transformed[(students_transformed['goes_out_more'] == False) & (students_transformed['drinker'] == True)]\n",
    "data2 = students_transformed[(students_transformed['goes_out_more'] == False)]\n",
    "print(1.0*len(data1)/len(data2))"
   ]
  },
  {
   "cell_type": "code",
   "execution_count": 81,
   "metadata": {
    "collapsed": false
   },
   "outputs": [
    {
     "name": "stdout",
     "output_type": "stream",
     "text": [
      "0.25\n"
     ]
    }
   ],
   "source": [
    "data1 = students_transformed[(students_transformed['goes_out_more'] == True) & (students_transformed['drinker'] == True)]\n",
    "data2 = students_transformed[(students_transformed['goes_out_more'] == True)]\n",
    "print(1.0*len(data1)/len(data2))"
   ]
  },
  {
   "cell_type": "code",
   "execution_count": null,
   "metadata": {
    "collapsed": true
   },
   "outputs": [],
   "source": []
  }
 ],
 "metadata": {
  "anaconda-cloud": {},
  "kernelspec": {
   "display_name": "Python [py27]",
   "language": "python",
   "name": "Python [py27]"
  },
  "language_info": {
   "codemirror_mode": {
    "name": "ipython",
    "version": 2
   },
   "file_extension": ".py",
   "mimetype": "text/x-python",
   "name": "python",
   "nbconvert_exporter": "python",
   "pygments_lexer": "ipython2",
   "version": "2.7.12"
  }
 },
 "nbformat": 4,
 "nbformat_minor": 0
}
